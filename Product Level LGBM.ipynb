{
 "cells": [
  {
   "cell_type": "markdown",
   "metadata": {},
   "source": [
    "# Product Level LGBM"
   ]
  },
  {
   "cell_type": "markdown",
   "metadata": {},
   "source": [
    "Comparing to handle the problem from store level and then breaking down into products by monthly sale ratios, this notebook directly build a model to do time series forecast product by product.\n",
    "\n",
    "Steps:\n",
    "\n",
    "1. Load raw data\n",
    "2. Reduce memory usage\n",
    "3. Feature engineering\n",
    "4. Modelling and prediction\n",
    "5. Save the results\n",
    "\n",
    "A lot of codes here are learned from a public notebook on Kaggle: https://www.kaggle.com/anshuls235/m5-forecasting-eda-fe-modelling/notebook. Thank you Anshul Sharma!"
   ]
  },
  {
   "cell_type": "code",
   "execution_count": 55,
   "metadata": {},
   "outputs": [],
   "source": [
    "import os\n",
    "import pandas as pd\n",
    "import numpy as np\n",
    "import matplotlib.pyplot as plt\n",
    "import seaborn as sns\n",
    "import gc\n",
    "import warnings\n",
    "warnings.filterwarnings('ignore')\n",
    "from lightgbm import LGBMRegressor\n",
    "import joblib\n",
    "from sklearn.metrics import mean_squared_error as mse\n",
    "import operator"
   ]
  },
  {
   "cell_type": "markdown",
   "metadata": {},
   "source": [
    "## Load raw data"
   ]
  },
  {
   "cell_type": "code",
   "execution_count": 2,
   "metadata": {},
   "outputs": [],
   "source": [
    "sales = pd.read_csv('sales_train_evaluation.csv')\n",
    "calendar = pd.read_csv('calendar.csv')\n",
    "prices = pd.read_csv('sell_prices.csv')"
   ]
  },
  {
   "cell_type": "code",
   "execution_count": 3,
   "metadata": {},
   "outputs": [],
   "source": [
    "#Add zero sales for the remaining days 1942-1969\n",
    "for d in range(1942,1970):\n",
    "    col = 'd_' + str(d)\n",
    "    sales[col] = 0\n",
    "    sales[col] = sales[col].astype(np.int16)"
   ]
  },
  {
   "cell_type": "markdown",
   "metadata": {},
   "source": [
    "## Reduce memory usage"
   ]
  },
  {
   "cell_type": "code",
   "execution_count": 4,
   "metadata": {},
   "outputs": [
    {
     "name": "stdout",
     "output_type": "stream",
     "text": [
      "\n",
      "Memory Usage \n",
      "sales_train_evaluation: 3.55 GB\n",
      "calendar: 2 MB\n",
      "sell_prices: 1.63 GB\n",
      "Total: 5.18 GB\n",
      "\n"
     ]
    }
   ],
   "source": [
    "print(f'''\n",
    "Memory Usage \n",
    "sales_train_evaluation: {round(sum(sales.memory_usage())/2**27,2)} GB\n",
    "calendar: {round(sum(calendar.memory_usage())/2**17)} MB\n",
    "sell_prices: {round(sum(prices.memory_usage())/2**27,2)} GB\n",
    "Total: {round(sum(sales.memory_usage())/2**27+sum(calendar.memory_usage())/2**27+sum(prices.memory_usage())/2**27,2)} GB\n",
    "''')"
   ]
  },
  {
   "cell_type": "markdown",
   "metadata": {},
   "source": [
    "### Numerical Columns\n",
    "\n",
    "Depending on the environment, pandas automatically creates int32, int64, float32 or float64 columns for numeric ones. If you know the min or max value of a column, you can use a subtype which is less memory consuming. You can also use an unsigned subtype if there is no negative value.\n",
    "\n",
    "Here are the different subtypes you can use:\n",
    "\n",
    "- `int8 / uint8` : consumes 1 byte of memory, range between -128/127 or 0/255\n",
    "- `bool` : consumes 1 byte, true or false\n",
    "- `float16 / int16 / uint16`: consumes 2 bytes of memory, range between -32768 and 32767 or 0/65535\n",
    "- `float32 / int32 / uint32` : consumes 4 bytes of memory, range between -2147483648 and 2147483647\n",
    "- `float64 / int64 / uint64`: consumes 8 bytes of memory"
   ]
  },
  {
   "cell_type": "markdown",
   "metadata": {},
   "source": [
    "### Categorical Columns\n",
    "\n",
    "Pandas stores categorical columns as objects. One of the reason this storage is not optimal is that it creates a list of pointers to the memory address of each value of your column. For columns with low cardinality (the amount of unique values is lower than 50% of the count of these values), this can be optimized by forcing pandas to use a virtual mapping table where all unique values are mapped via an integer instead of a pointer. This is done using the category datatype."
   ]
  },
  {
   "cell_type": "code",
   "execution_count": 5,
   "metadata": {},
   "outputs": [],
   "source": [
    "def downcast(df):\n",
    "    cols = df.dtypes.index.tolist()\n",
    "    types = df.dtypes.values.tolist()\n",
    "    for i,t in enumerate(types):\n",
    "        if 'int' in str(t):\n",
    "            if df[cols[i]].min() > np.iinfo(np.int8).min and df[cols[i]].max() < np.iinfo(np.int8).max:\n",
    "                df[cols[i]] = df[cols[i]].astype(np.int8)\n",
    "            elif df[cols[i]].min() > np.iinfo(np.int16).min and df[cols[i]].max() < np.iinfo(np.int16).max:\n",
    "                df[cols[i]] = df[cols[i]].astype(np.int16)\n",
    "            elif df[cols[i]].min() > np.iinfo(np.int32).min and df[cols[i]].max() < np.iinfo(np.int32).max:\n",
    "                df[cols[i]] = df[cols[i]].astype(np.int32)\n",
    "            else:\n",
    "                df[cols[i]] = df[cols[i]].astype(np.int64)\n",
    "        elif 'float' in str(t):\n",
    "            if df[cols[i]].min() > np.finfo(np.float16).min and df[cols[i]].max() < np.finfo(np.float16).max:\n",
    "                df[cols[i]] = df[cols[i]].astype(np.float16)\n",
    "            elif df[cols[i]].min() > np.finfo(np.float32).min and df[cols[i]].max() < np.finfo(np.float32).max:\n",
    "                df[cols[i]] = df[cols[i]].astype(np.float32)\n",
    "            else:\n",
    "                df[cols[i]] = df[cols[i]].astype(np.float64)\n",
    "        elif t == np.object:\n",
    "            if cols[i] == 'date':\n",
    "                df[cols[i]] = pd.to_datetime(df[cols[i]], format='%Y-%m-%d')\n",
    "            else:\n",
    "                df[cols[i]] = df[cols[i]].astype('category')\n",
    "    return df  "
   ]
  },
  {
   "cell_type": "code",
   "execution_count": 6,
   "metadata": {},
   "outputs": [
    {
     "name": "stdout",
     "output_type": "stream",
     "text": [
      "sales_e finished\n",
      "prices finished\n",
      "calendar finished\n"
     ]
    }
   ],
   "source": [
    "sales = downcast(sales)\n",
    "print(\"sales_e finished\")\n",
    "prices = downcast(prices)\n",
    "print(\"prices finished\")\n",
    "calendar = downcast(calendar)\n",
    "print(\"calendar finished\")"
   ]
  },
  {
   "cell_type": "code",
   "execution_count": 7,
   "metadata": {},
   "outputs": [
    {
     "name": "stdout",
     "output_type": "stream",
     "text": [
      "\n",
      "Memory Usage \n",
      "sales_train_evaluation: 0.76 GB\n",
      "calendar: 1 MB\n",
      "sell_prices: 0.36 GB\n",
      "Total: 1.12 GB\n",
      "\n"
     ]
    }
   ],
   "source": [
    "print(f'''\n",
    "Memory Usage \n",
    "sales_train_evaluation: {round(sum(sales.memory_usage())/2**27,2)} GB\n",
    "calendar: {round(sum(calendar.memory_usage())/2**17)} MB\n",
    "sell_prices: {round(sum(prices.memory_usage())/2**27,2)} GB\n",
    "Total: {round(sum(sales.memory_usage())/2**27+sum(calendar.memory_usage())/2**27+sum(prices.memory_usage())/2**27,2)} GB\n",
    "''')"
   ]
  },
  {
   "cell_type": "markdown",
   "metadata": {},
   "source": [
    "We reduce 78% of the memory usage comparing to the raw data!"
   ]
  },
  {
   "cell_type": "markdown",
   "metadata": {},
   "source": [
    "## Feature engineering"
   ]
  },
  {
   "cell_type": "code",
   "execution_count": 14,
   "metadata": {},
   "outputs": [],
   "source": [
    "# merge the tables\n",
    "df = pd.melt(sales, id_vars=['id', 'item_id', 'dept_id', 'cat_id', 'store_id', 'state_id'], \\\n",
    "             var_name='d', value_name='sold').dropna()\n",
    "df = pd.merge(df, calendar, on='d', how='left')\n",
    "df = pd.merge(df, prices, on=['store_id','item_id','wm_yr_wk'], how='left') "
   ]
  },
  {
   "cell_type": "markdown",
   "metadata": {},
   "source": [
    "Time Series data must be re-framed as a supervised learning dataset before we can start using machine learning algorithms."
   ]
  },
  {
   "cell_type": "code",
   "execution_count": 15,
   "metadata": {},
   "outputs": [],
   "source": [
    "def feature_engineer(df):\n",
    "    #Store the categories along with their codes\n",
    "    d_id = dict(zip(df.id.cat.codes, df.id))\n",
    "    d_item_id = dict(zip(df.item_id.cat.codes, df.item_id))\n",
    "    d_dept_id = dict(zip(df.dept_id.cat.codes, df.dept_id))\n",
    "    d_cat_id = dict(zip(df.cat_id.cat.codes, df.cat_id))\n",
    "    d_store_id = dict(zip(df.store_id.cat.codes, df.store_id))\n",
    "    d_state_id = dict(zip(df.state_id.cat.codes, df.state_id))\n",
    "    print(1)\n",
    "    \n",
    "\n",
    "    #Label Encode categorical features\n",
    "    df.d = df['d'].apply(lambda x: x.split('_')[1]).astype(np.int16)\n",
    "    cols = df.dtypes.index.tolist()\n",
    "    types = df.dtypes.values.tolist()\n",
    "    for i,type in enumerate(types):\n",
    "        if type.name == 'category':\n",
    "            df[cols[i]] = df[cols[i]].cat.codes\n",
    "\n",
    "    #Remove date as its features are already present\n",
    "    df.drop('date',axis=1,inplace=True)\n",
    "    print(2)\n",
    "    \n",
    "    #Introduce lags\n",
    "    lags = [1,2,3,4,5,6,7,14,28,30,60]\n",
    "    for lag in lags:\n",
    "        df['sold_lag_'+str(lag)] = df.groupby(['id', 'item_id', 'dept_id', 'cat_id', 'store_id', 'state_id'],\\\n",
    "                                          as_index=False)['sold'].shift(lag).astype(np.float16)\n",
    "    print(3)\n",
    "    #Mean Encoding\n",
    "    df['iteam_sold_avg'] = df.groupby('item_id')['sold'].transform('mean').astype(np.float16)\n",
    "    df['state_sold_avg'] = df.groupby('state_id')['sold'].transform('mean').astype(np.float16)\n",
    "    df['store_sold_avg'] = df.groupby('store_id')['sold'].transform('mean').astype(np.float16)\n",
    "    df['cat_sold_avg'] = df.groupby('cat_id')['sold'].transform('mean').astype(np.float16)\n",
    "    df['dept_sold_avg'] = df.groupby('dept_id')['sold'].transform('mean').astype(np.float16)\n",
    "    df['cat_dept_sold_avg'] = df.groupby(['cat_id','dept_id'])['sold'].transform('mean').astype(np.float16)\n",
    "    df['store_item_sold_avg'] = df.groupby(['store_id','item_id'])['sold'].transform('mean').astype(np.float16)\n",
    "    df['cat_item_sold_avg'] = df.groupby(['cat_id','item_id'])['sold'].transform('mean').astype(np.float16)\n",
    "    df['dept_item_sold_avg'] = df.groupby(['dept_id','item_id'])['sold'].transform('mean').astype(np.float16)\n",
    "    df['state_store_sold_avg'] = df.groupby(['state_id','store_id'])['sold'].transform('mean').astype(np.float16)\n",
    "    df['state_store_cat_sold_avg'] = df.groupby(['state_id','store_id','cat_id'])['sold'].transform('mean').astype(np.float16)\n",
    "    df['store_cat_dept_sold_avg'] = df.groupby(['store_id','cat_id','dept_id'])['sold'].transform('mean').astype(np.float16)\n",
    "    print(4)\n",
    "    \n",
    "    #Rolling Window Statistics\n",
    "    df['rolling_sold_mean'] = df.groupby(['id', 'item_id', 'dept_id', 'cat_id', 'store_id', 'state_id']\\\n",
    "                                        )['sold'].transform(lambda x: x.rolling(window=7).mean()).astype(np.float16)\n",
    "    df['rolling_sold_std'] = df.groupby(['id', 'item_id', 'dept_id', 'cat_id', 'store_id', 'state_id']\\\n",
    "                                        )['sold'].transform(lambda x: x.rolling(window=7).std()).astype(np.float16)\n",
    "    df['rolling_price_mean'] = df.groupby(['id', 'item_id', 'dept_id', 'cat_id', 'store_id', 'state_id']\\\n",
    "                                        )['sell_price'].transform(lambda x: x.rolling(window=7).mean()).astype(np.float16)\n",
    "    df['rolling_price_std'] = df.groupby(['id', 'item_id', 'dept_id', 'cat_id', 'store_id', 'state_id']\\\n",
    "                                        )['sell_price'].transform(lambda x: x.rolling(window=7).std()).astype(np.float16)\n",
    "    print(5)\n",
    "    \n",
    "    #Trends\n",
    "    df['daily_avg_sold'] = df.groupby(['id', 'item_id', 'dept_id', 'cat_id', 'store_id', 'state_id','d'])['sold'].transform('mean').astype(np.float16)\n",
    "    df['avg_sold'] = df.groupby(['id', 'item_id', 'dept_id', 'cat_id', 'store_id', 'state_id'])['sold'].transform('mean').astype(np.float16)\n",
    "    df['selling_trend'] = (df['daily_avg_sold'] - df['avg_sold']).astype(np.float16)\n",
    "    df.drop(['daily_avg_sold','avg_sold'],axis=1,inplace=True)\n",
    "    \n",
    "    df = df[df['d']>60]\n",
    "    \n",
    "    return df"
   ]
  },
  {
   "cell_type": "code",
   "execution_count": 16,
   "metadata": {},
   "outputs": [
    {
     "name": "stdout",
     "output_type": "stream",
     "text": [
      "1\n",
      "2\n",
      "3\n",
      "4\n",
      "5\n",
      "<class 'pandas.core.frame.DataFrame'>\n",
      "Int64Index: 58205410 entries, 1829400 to 60034809\n",
      "Data columns (total 47 columns):\n",
      " #   Column                    Dtype  \n",
      "---  ------                    -----  \n",
      " 0   id                        int16  \n",
      " 1   item_id                   int16  \n",
      " 2   dept_id                   int8   \n",
      " 3   cat_id                    int8   \n",
      " 4   store_id                  int8   \n",
      " 5   state_id                  int8   \n",
      " 6   d                         int16  \n",
      " 7   sold                      int16  \n",
      " 8   wm_yr_wk                  int16  \n",
      " 9   weekday                   int8   \n",
      " 10  wday                      int8   \n",
      " 11  month                     int8   \n",
      " 12  year                      int16  \n",
      " 13  event_name_1              int8   \n",
      " 14  event_type_1              int8   \n",
      " 15  event_name_2              int8   \n",
      " 16  event_type_2              int8   \n",
      " 17  snap_CA                   int8   \n",
      " 18  snap_TX                   int8   \n",
      " 19  snap_WI                   int8   \n",
      " 20  sell_price                float16\n",
      " 21  sold_lag_1                float16\n",
      " 22  sold_lag_2                float16\n",
      " 23  sold_lag_3                float16\n",
      " 24  sold_lag_4                float16\n",
      " 25  sold_lag_5                float16\n",
      " 26  sold_lag_6                float16\n",
      " 27  sold_lag_7                float16\n",
      " 28  sold_lag_14               float16\n",
      " 29  sold_lag_28               float16\n",
      " 30  sold_lag_30               float16\n",
      " 31  sold_lag_60               float16\n",
      " 32  iteam_sold_avg            float16\n",
      " 33  state_sold_avg            float16\n",
      " 34  store_sold_avg            float16\n",
      " 35  cat_sold_avg              float16\n",
      " 36  dept_sold_avg             float16\n",
      " 37  cat_dept_sold_avg         float16\n",
      " 38  store_item_sold_avg       float16\n",
      " 39  cat_item_sold_avg         float16\n",
      " 40  dept_item_sold_avg        float16\n",
      " 41  state_store_sold_avg      float16\n",
      " 42  state_store_cat_sold_avg  float16\n",
      " 43  store_cat_dept_sold_avg   float16\n",
      " 44  rolling_sold_mean         float16\n",
      " 45  rolling_sold_std          float16\n",
      " 46  selling_trend             float16\n",
      "dtypes: float16(27), int16(6), int8(14)\n",
      "memory usage: 4.8 GB\n"
     ]
    }
   ],
   "source": [
    "df = feature_engineer(df)\n",
    "df.info()"
   ]
  },
  {
   "cell_type": "code",
   "execution_count": 36,
   "metadata": {},
   "outputs": [],
   "source": [
    "# This is used for recurrently revising features and doing predictions day by day in the next section.\n",
    "def fe_short(df):\n",
    "    lags = [1,2,3,4,5,6,7,14,28,30,60]\n",
    "    for lag in lags:\n",
    "        df['sold_lag_'+str(lag)] = df.groupby(['id', 'item_id', 'dept_id', 'cat_id', 'store_id', 'state_id'],\\\n",
    "                                          as_index=False)['sold'].shift(lag).astype(np.float16)\n",
    "    \n",
    "    #Rolling Window Statistics\n",
    "    df['rolling_sold_mean'] = df.groupby(['id', 'item_id', 'dept_id', 'cat_id', 'store_id', 'state_id']\\\n",
    "                                        )['sold'].transform(lambda x: x.rolling(window=7).mean()).astype(np.float16)\n",
    "    df['rolling_sold_std'] = df.groupby(['id', 'item_id', 'dept_id', 'cat_id', 'store_id', 'state_id']\\\n",
    "                                        )['sold'].transform(lambda x: x.rolling(window=7).std()).astype(np.float16)\n",
    "    \n",
    "    #Trends\n",
    "    df['daily_avg_sold'] = df.groupby(['id', 'item_id', 'dept_id', 'cat_id', 'store_id', 'state_id','d'])['sold'].transform('mean').astype(np.float16)\n",
    "    df['avg_sold'] = df.groupby(['id', 'item_id', 'dept_id', 'cat_id', 'store_id', 'state_id'])['sold'].transform('mean').astype(np.float16)\n",
    "    df['selling_trend'] = (df['daily_avg_sold'] - df['avg_sold']).astype(np.float16)\n",
    "    df.drop(['daily_avg_sold','avg_sold'],axis=1,inplace=True)\n",
    "    \n",
    "    return df"
   ]
  },
  {
   "cell_type": "markdown",
   "metadata": {},
   "source": [
    "## Modelling and prediction"
   ]
  },
  {
   "cell_type": "code",
   "execution_count": 24,
   "metadata": {},
   "outputs": [
    {
     "name": "stdout",
     "output_type": "stream",
     "text": [
      "Training until validation scores don't improve for 20 rounds\n",
      "[20]\ttraining's rmse: 0.73311\ttraining's l2: 0.53745\tvalid_1's rmse: 0.547231\tvalid_1's l2: 0.299462\n",
      "[40]\ttraining's rmse: 0.634946\ttraining's l2: 0.403156\tvalid_1's rmse: 0.466775\tvalid_1's l2: 0.217878\n",
      "[60]\ttraining's rmse: 0.581722\ttraining's l2: 0.3384\tvalid_1's rmse: 0.428388\tvalid_1's l2: 0.183516\n",
      "[80]\ttraining's rmse: 0.54106\ttraining's l2: 0.292746\tvalid_1's rmse: 0.399667\tvalid_1's l2: 0.159734\n",
      "[100]\ttraining's rmse: 0.514074\ttraining's l2: 0.264272\tvalid_1's rmse: 0.380828\tvalid_1's l2: 0.14503\n",
      "[120]\ttraining's rmse: 0.49412\ttraining's l2: 0.244155\tvalid_1's rmse: 0.366918\tvalid_1's l2: 0.134629\n",
      "[140]\ttraining's rmse: 0.477712\ttraining's l2: 0.228209\tvalid_1's rmse: 0.354234\tvalid_1's l2: 0.125481\n",
      "[160]\ttraining's rmse: 0.462506\ttraining's l2: 0.213912\tvalid_1's rmse: 0.344486\tvalid_1's l2: 0.11867\n",
      "[180]\ttraining's rmse: 0.450223\ttraining's l2: 0.202701\tvalid_1's rmse: 0.334412\tvalid_1's l2: 0.111831\n",
      "[200]\ttraining's rmse: 0.43967\ttraining's l2: 0.193309\tvalid_1's rmse: 0.327686\tvalid_1's l2: 0.107378\n",
      "[220]\ttraining's rmse: 0.430671\ttraining's l2: 0.185477\tvalid_1's rmse: 0.321196\tvalid_1's l2: 0.103167\n",
      "[240]\ttraining's rmse: 0.421552\ttraining's l2: 0.177706\tvalid_1's rmse: 0.31295\tvalid_1's l2: 0.0979374\n",
      "[260]\ttraining's rmse: 0.413565\ttraining's l2: 0.171036\tvalid_1's rmse: 0.307232\tvalid_1's l2: 0.0943912\n",
      "[280]\ttraining's rmse: 0.406151\ttraining's l2: 0.164959\tvalid_1's rmse: 0.301516\tvalid_1's l2: 0.090912\n",
      "[300]\ttraining's rmse: 0.399385\ttraining's l2: 0.159508\tvalid_1's rmse: 0.296342\tvalid_1's l2: 0.0878186\n",
      "[320]\ttraining's rmse: 0.393217\ttraining's l2: 0.15462\tvalid_1's rmse: 0.290928\tvalid_1's l2: 0.0846389\n",
      "[340]\ttraining's rmse: 0.387056\ttraining's l2: 0.149812\tvalid_1's rmse: 0.285331\tvalid_1's l2: 0.0814138\n",
      "[360]\ttraining's rmse: 0.380734\ttraining's l2: 0.144958\tvalid_1's rmse: 0.280271\tvalid_1's l2: 0.0785516\n",
      "[380]\ttraining's rmse: 0.375687\ttraining's l2: 0.14114\tvalid_1's rmse: 0.275982\tvalid_1's l2: 0.0761661\n",
      "[400]\ttraining's rmse: 0.370867\ttraining's l2: 0.137542\tvalid_1's rmse: 0.273158\tvalid_1's l2: 0.0746154\n",
      "[420]\ttraining's rmse: 0.366095\ttraining's l2: 0.134026\tvalid_1's rmse: 0.268558\tvalid_1's l2: 0.0721236\n",
      "[440]\ttraining's rmse: 0.361185\ttraining's l2: 0.130455\tvalid_1's rmse: 0.265433\tvalid_1's l2: 0.0704545\n",
      "[460]\ttraining's rmse: 0.35709\ttraining's l2: 0.127513\tvalid_1's rmse: 0.26292\tvalid_1's l2: 0.0691269\n",
      "[480]\ttraining's rmse: 0.352918\ttraining's l2: 0.124551\tvalid_1's rmse: 0.260522\tvalid_1's l2: 0.0678717\n",
      "[500]\ttraining's rmse: 0.349053\ttraining's l2: 0.121838\tvalid_1's rmse: 0.257901\tvalid_1's l2: 0.066513\n",
      "[520]\ttraining's rmse: 0.345416\ttraining's l2: 0.119312\tvalid_1's rmse: 0.254668\tvalid_1's l2: 0.0648557\n",
      "[540]\ttraining's rmse: 0.342267\ttraining's l2: 0.117147\tvalid_1's rmse: 0.252162\tvalid_1's l2: 0.0635858\n",
      "[560]\ttraining's rmse: 0.338948\ttraining's l2: 0.114886\tvalid_1's rmse: 0.249293\tvalid_1's l2: 0.0621469\n",
      "[580]\ttraining's rmse: 0.336085\ttraining's l2: 0.112953\tvalid_1's rmse: 0.246917\tvalid_1's l2: 0.0609682\n",
      "[600]\ttraining's rmse: 0.332978\ttraining's l2: 0.110874\tvalid_1's rmse: 0.244895\tvalid_1's l2: 0.0599734\n",
      "[620]\ttraining's rmse: 0.329929\ttraining's l2: 0.108853\tvalid_1's rmse: 0.241574\tvalid_1's l2: 0.0583582\n",
      "[640]\ttraining's rmse: 0.327036\ttraining's l2: 0.106952\tvalid_1's rmse: 0.239391\tvalid_1's l2: 0.0573082\n",
      "[660]\ttraining's rmse: 0.32448\ttraining's l2: 0.105288\tvalid_1's rmse: 0.237825\tvalid_1's l2: 0.0565609\n",
      "[680]\ttraining's rmse: 0.321242\ttraining's l2: 0.103197\tvalid_1's rmse: 0.23647\tvalid_1's l2: 0.0559178\n",
      "[700]\ttraining's rmse: 0.318196\ttraining's l2: 0.101249\tvalid_1's rmse: 0.233984\tvalid_1's l2: 0.0547486\n",
      "[720]\ttraining's rmse: 0.315508\ttraining's l2: 0.0995452\tvalid_1's rmse: 0.232093\tvalid_1's l2: 0.0538672\n",
      "[740]\ttraining's rmse: 0.31339\ttraining's l2: 0.0982132\tvalid_1's rmse: 0.230964\tvalid_1's l2: 0.0533442\n",
      "[760]\ttraining's rmse: 0.311275\ttraining's l2: 0.0968922\tvalid_1's rmse: 0.229688\tvalid_1's l2: 0.0527564\n",
      "[780]\ttraining's rmse: 0.309164\ttraining's l2: 0.0955827\tvalid_1's rmse: 0.22802\tvalid_1's l2: 0.0519931\n",
      "[800]\ttraining's rmse: 0.306667\ttraining's l2: 0.0940449\tvalid_1's rmse: 0.226617\tvalid_1's l2: 0.0513553\n",
      "[820]\ttraining's rmse: 0.304426\ttraining's l2: 0.0926753\tvalid_1's rmse: 0.224143\tvalid_1's l2: 0.0502401\n",
      "[840]\ttraining's rmse: 0.30208\ttraining's l2: 0.0912521\tvalid_1's rmse: 0.222841\tvalid_1's l2: 0.0496581\n",
      "[860]\ttraining's rmse: 0.299835\ttraining's l2: 0.0899008\tvalid_1's rmse: 0.221371\tvalid_1's l2: 0.0490053\n",
      "[880]\ttraining's rmse: 0.29768\ttraining's l2: 0.0886133\tvalid_1's rmse: 0.220768\tvalid_1's l2: 0.0487383\n",
      "[900]\ttraining's rmse: 0.29523\ttraining's l2: 0.0871609\tvalid_1's rmse: 0.218757\tvalid_1's l2: 0.0478548\n",
      "[920]\ttraining's rmse: 0.293119\ttraining's l2: 0.085919\tvalid_1's rmse: 0.217985\tvalid_1's l2: 0.0475174\n",
      "[940]\ttraining's rmse: 0.291282\ttraining's l2: 0.0848454\tvalid_1's rmse: 0.216011\tvalid_1's l2: 0.0466609\n",
      "[960]\ttraining's rmse: 0.289311\ttraining's l2: 0.0837007\tvalid_1's rmse: 0.214678\tvalid_1's l2: 0.0460866\n",
      "[980]\ttraining's rmse: 0.287618\ttraining's l2: 0.082724\tvalid_1's rmse: 0.2135\tvalid_1's l2: 0.0455823\n",
      "[1000]\ttraining's rmse: 0.285693\ttraining's l2: 0.0816204\tvalid_1's rmse: 0.211596\tvalid_1's l2: 0.0447729\n",
      "Did not meet early stopping. Best iteration is:\n",
      "[1000]\ttraining's rmse: 0.285693\ttraining's l2: 0.0816204\tvalid_1's rmse: 0.211596\tvalid_1's l2: 0.0447729\n",
      "model finished\n",
      "MSE of before and after: 0.01392038920032663\n",
      "3\n",
      "4\n",
      "5\n",
      "fe finished\n"
     ]
    }
   ],
   "source": [
    "X_train, y_train = df[df['d']<1942].drop('sold',axis=1), df[df['d']<1942]['sold']\n",
    "X_test = df[df['d']>=1942].drop('sold',axis=1)\n",
    "\n",
    "X_valid, y_valid = df[(df['d']>=1914) & (df['d']<1942)].drop('sold',axis=1), df[(df['d']>=1914) & (df['d']<1942)]['sold']\n",
    "\n",
    "y_before = df[df['d']>=1942]['sold']\n",
    "\n",
    "model = LGBMRegressor(\n",
    "    n_estimators=1000,\n",
    "    learning_rate=0.3,\n",
    "    subsample=0.8,\n",
    "    colsample_bytree=0.8,\n",
    "    max_depth=8,\n",
    "    num_leaves=50,\n",
    "    min_child_weight=300\n",
    ")\n",
    "model.fit(X_train, y_train, eval_set=[(X_train,y_train),(X_valid,y_valid)],\n",
    "         eval_metric='rmse', verbose=20, early_stopping_rounds=20)\n",
    "print(\"model finished\")\n",
    "y_after = model.predict(X_test)\n",
    "df['sold'][X_test.index] = model.predict(X_test)\n",
    "error = mse(y_after,y_before)\n",
    "print(\"MSE of before and after:\",error)\n",
    "df = fe_short(df)\n",
    "print(\"fe finished\")"
   ]
  },
  {
   "cell_type": "code",
   "execution_count": 27,
   "metadata": {},
   "outputs": [],
   "source": [
    "df['sold'][X_test.index]=np.nan"
   ]
  },
  {
   "cell_type": "code",
   "execution_count": 28,
   "metadata": {},
   "outputs": [
    {
     "name": "stdout",
     "output_type": "stream",
     "text": [
      "3\n",
      "4\n",
      "5\n"
     ]
    }
   ],
   "source": [
    "df = fe_short(df)"
   ]
  },
  {
   "cell_type": "code",
   "execution_count": 31,
   "metadata": {
    "scrolled": true
   },
   "outputs": [
    {
     "data": {
      "image/png": "[encoded data removed]",
      "text/plain": [
       "<Figure size 7200x432 with 1 Axes>"
      ]
     },
     "metadata": {
      "needs_background": "light"
     },
     "output_type": "display_data"
    }
   ],
   "source": [
    "# feature importance\n",
    "variable_importance = []\n",
    "for i in range(len(X_test.columns)):\n",
    "    variable_importance.append((X_test.columns[i],model.feature_importances_[i]))\n",
    "variable_importance.sort(key = operator.itemgetter(1), reverse=True)\n",
    "\n",
    "selected_variable = [x[0] for x in variable_importance]\n",
    "selected_importance = [x[1] for x in variable_importance]\n",
    "plt.figure(figsize=(100,6))\n",
    "plt.bar(selected_variable,selected_importance)\n",
    "plt.ylabel(\"Feature Importance with LGBM\")\n",
    "plt.show()"
   ]
  },
  {
   "cell_type": "code",
   "execution_count": 45,
   "metadata": {},
   "outputs": [
    {
     "name": "stdout",
     "output_type": "stream",
     "text": [
      "1942\n",
      "1943\n",
      "1944\n",
      "1945\n",
      "1946\n",
      "1947\n",
      "1948\n",
      "1949\n",
      "1950\n",
      "1951\n",
      "1952\n",
      "1953\n",
      "1954\n",
      "1955\n",
      "1956\n",
      "1957\n",
      "1958\n",
      "1959\n",
      "1960\n",
      "1961\n",
      "1962\n",
      "1963\n",
      "1964\n",
      "1965\n",
      "1966\n",
      "1967\n",
      "1968\n",
      "1969\n"
     ]
    }
   ],
   "source": [
    "for i in range(1942,1970):\n",
    "    print(i)\n",
    "    index_list = X_test[X_test.d == i].index\n",
    "    l = model.predict(X_test.loc[index_list,:])\n",
    "    l[l<0] = 0\n",
    "    df['sold'][index_list] = l\n",
    "    df = fe_short(df)\n",
    "    X_test = df[df['d']>=1942].drop('sold',axis=1)"
   ]
  },
  {
   "cell_type": "markdown",
   "metadata": {},
   "source": [
    "## Save the results"
   ]
  },
  {
   "cell_type": "code",
   "execution_count": 51,
   "metadata": {},
   "outputs": [],
   "source": [
    "validation = sales[['id']+['d_' + str(i) for i in range(1914,1942)]]\n",
    "validation['id']=pd.read_csv('sales_train_validation.csv').id\n",
    "validation.columns=['id'] + ['F' + str(i + 1) for i in range(28)]\n",
    "\n",
    "evaluation = df[df['d']>=1942][['id','d','sold']]\n",
    "evaluation = pd.pivot(evaluation, index='id', columns='d', values='sold').reset_index()\n",
    "evaluation.columns=['id'] + ['F' + str(i + 1) for i in range(28)]\n",
    "evaluation.id = validation.id.apply(lambda x: x[:-10]+'evaluation')\n",
    "\n",
    "#Prepare the submission\n",
    "submit = pd.concat([validation,evaluation]).reset_index(drop=True)\n",
    "submit.to_csv('submission.csv',index=False)"
   ]
  },
  {
   "cell_type": "code",
   "execution_count": 54,
   "metadata": {},
   "outputs": [],
   "source": [
    "# save the data and model\n",
    "# the <1914 part of the df is untouched\n",
    "df.to_pickle('data.pkl')\n",
    "joblib.dump(model, 'modelLGBM.pkl')\n",
    "gc.collect();"
   ]
  },
  {
   "cell_type": "code",
   "execution_count": null,
   "metadata": {},
   "outputs": [],
   "source": []
  }
 ],
 "metadata": {
  "kernelspec": {
   "display_name": "Python 3",
   "language": "python",
   "name": "python3"
  },
  "language_info": {
   "codemirror_mode": {
    "name": "ipython",
    "version": 3
   },
   "file_extension": ".py",
   "mimetype": "text/x-python",
   "name": "python",
   "nbconvert_exporter": "python",
   "pygments_lexer": "ipython3",
   "version": "3.7.3"
  }
 },
 "nbformat": 4,
 "nbformat_minor": 2
}
